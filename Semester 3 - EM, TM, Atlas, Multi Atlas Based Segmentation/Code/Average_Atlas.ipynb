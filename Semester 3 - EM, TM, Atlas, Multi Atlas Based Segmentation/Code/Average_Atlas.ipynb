{
 "cells": [
  {
   "cell_type": "markdown",
   "metadata": {
    "colab_type": "text",
    "id": "okbHqviGUhpt"
   },
   "source": [
    "## Downloading and Unzipping the data - It will take a lot of time. It has to download and unzip registered image data of 15 Atlases"
   ]
  },
  {
   "cell_type": "code",
   "execution_count": 1,
   "metadata": {
    "colab": {
     "base_uri": "https://localhost:8080/",
     "height": 36
    },
    "colab_type": "code",
    "id": "uDqGm8GglRgn",
    "outputId": "05d8e31c-2c4a-443c-caf8-3e71d8588029"
   },
   "outputs": [
    {
     "name": "stdout",
     "output_type": "stream",
     "text": [
      "/content\n"
     ]
    }
   ],
   "source": [
    "cd /content"
   ]
  },
  {
   "cell_type": "code",
   "execution_count": 0,
   "metadata": {
    "colab": {
     "base_uri": "https://localhost:8080/",
     "height": 1000
    },
    "colab_type": "code",
    "id": "fiyb7vhO9vDf",
    "outputId": "f151c886-6799-4ddd-9c2c-d5c709b309f9"
   },
   "outputs": [
    {
     "name": "stdout",
     "output_type": "stream",
     "text": [
      "--2019-12-05 19:46:39--  https://www.dropbox.com/s/csqj9r4dwul0nvg/avg_atlas_transform.rar?dl=0\n",
      "Resolving www.dropbox.com (www.dropbox.com)... 162.125.65.1, 2620:100:6021:1::a27d:4101\n",
      "Connecting to www.dropbox.com (www.dropbox.com)|162.125.65.1|:443... connected.\n",
      "HTTP request sent, awaiting response... 301 Moved Permanently\n",
      "Location: /s/raw/csqj9r4dwul0nvg/avg_atlas_transform.rar [following]\n",
      "--2019-12-05 19:46:40--  https://www.dropbox.com/s/raw/csqj9r4dwul0nvg/avg_atlas_transform.rar\n",
      "Reusing existing connection to www.dropbox.com:443.\n",
      "HTTP request sent, awaiting response... 302 Found\n",
      "Location: https://uc60cc88331caf5699ecbf7cb224.dl.dropboxusercontent.com/cd/0/inline/Atqt0MHAUhmDXZcSp-ZxME_8Ozf6DYViDS9IsimiddcnU8qSBqmZCVe7of22HAKaXXSeSgKDVsn3uPNR6EbFhUkxgriBSmTwbJt4-rHb9QPzWYWP2xhD_5sFW531k67VaeY/file# [following]\n",
      "--2019-12-05 19:46:40--  https://uc60cc88331caf5699ecbf7cb224.dl.dropboxusercontent.com/cd/0/inline/Atqt0MHAUhmDXZcSp-ZxME_8Ozf6DYViDS9IsimiddcnU8qSBqmZCVe7of22HAKaXXSeSgKDVsn3uPNR6EbFhUkxgriBSmTwbJt4-rHb9QPzWYWP2xhD_5sFW531k67VaeY/file\n",
      "Resolving uc60cc88331caf5699ecbf7cb224.dl.dropboxusercontent.com (uc60cc88331caf5699ecbf7cb224.dl.dropboxusercontent.com)... 162.125.65.6, 2620:100:6021:6::a27d:4106\n",
      "Connecting to uc60cc88331caf5699ecbf7cb224.dl.dropboxusercontent.com (uc60cc88331caf5699ecbf7cb224.dl.dropboxusercontent.com)|162.125.65.6|:443... connected.\n",
      "HTTP request sent, awaiting response... 302 FOUND\n",
      "Location: /cd/0/inline2/AtoM7rd-ytITtOWaxNgh_ODn-6qNKZGP0qR-sOP7DhWeDNWBz6TrDjTIw1bq8yaUhXSsnOUtOBJjg5kEM51dfRWySFjBC82-Yssj0TiM2LD6qQyTbJsp2DLI2gm0m8h4wUziUN_KJomxEd6N3wGh18vKNZntUGBg7csdQq77mdBZ-L28-54eyh0XKvbSDFLu1vxjRheMU9S-kpn21EdBc5hrod5aoEUINuRuAS5EytIVsQyonxKsajujNfPcken7OOpBNTB-wYWh1LniDCc_grDSMteOo8H2FPy8UvLTpYOgQpp5af0o1bUycYKcYZPz4bxCMEYEVktbHonMmWB5i5jSCZKq5ObwoNt229QEtGQBZg/file [following]\n",
      "--2019-12-05 19:46:41--  https://uc60cc88331caf5699ecbf7cb224.dl.dropboxusercontent.com/cd/0/inline2/AtoM7rd-ytITtOWaxNgh_ODn-6qNKZGP0qR-sOP7DhWeDNWBz6TrDjTIw1bq8yaUhXSsnOUtOBJjg5kEM51dfRWySFjBC82-Yssj0TiM2LD6qQyTbJsp2DLI2gm0m8h4wUziUN_KJomxEd6N3wGh18vKNZntUGBg7csdQq77mdBZ-L28-54eyh0XKvbSDFLu1vxjRheMU9S-kpn21EdBc5hrod5aoEUINuRuAS5EytIVsQyonxKsajujNfPcken7OOpBNTB-wYWh1LniDCc_grDSMteOo8H2FPy8UvLTpYOgQpp5af0o1bUycYKcYZPz4bxCMEYEVktbHonMmWB5i5jSCZKq5ObwoNt229QEtGQBZg/file\n",
      "Reusing existing connection to uc60cc88331caf5699ecbf7cb224.dl.dropboxusercontent.com:443.\n",
      "HTTP request sent, awaiting response... 200 OK\n",
      "Length: 136290383 (130M) [application/rar]\n",
      "Saving to: ‘avg.rar’\n",
      "\n",
      "avg.rar             100%[===================>] 129.98M  54.5MB/s    in 2.4s    \n",
      "\n",
      "2019-12-05 19:46:44 (54.5 MB/s) - ‘avg.rar’ saved [136290383/136290383]\n",
      "\n",
      "--2019-12-05 19:46:45--  https://www.dropbox.com/s/kv6yvak490nd2em/final.rar?dl=0\n",
      "Resolving www.dropbox.com (www.dropbox.com)... 162.125.65.1, 2620:100:6021:1::a27d:4101\n",
      "Connecting to www.dropbox.com (www.dropbox.com)|162.125.65.1|:443... connected.\n",
      "HTTP request sent, awaiting response... 301 Moved Permanently\n",
      "Location: /s/raw/kv6yvak490nd2em/final.rar [following]\n",
      "--2019-12-05 19:46:45--  https://www.dropbox.com/s/raw/kv6yvak490nd2em/final.rar\n",
      "Reusing existing connection to www.dropbox.com:443.\n",
      "HTTP request sent, awaiting response... 302 Found\n",
      "Location: https://ucaf3a74f2e060b7832fe08a9f4a.dl.dropboxusercontent.com/cd/0/inline/AtqzclRTYwWAmBF6WqYE4LYS7o1BnO8FqhRBHy2z1CaCPbRXaPdVU4fzYEGJn7Jd9LsHt0XvNsqUQE8C7TWH4ltNKe6gDPZOaCzEUx5UZ2unmm-vjMEjOKAMigTtVa2n29c/file# [following]\n",
      "--2019-12-05 19:46:46--  https://ucaf3a74f2e060b7832fe08a9f4a.dl.dropboxusercontent.com/cd/0/inline/AtqzclRTYwWAmBF6WqYE4LYS7o1BnO8FqhRBHy2z1CaCPbRXaPdVU4fzYEGJn7Jd9LsHt0XvNsqUQE8C7TWH4ltNKe6gDPZOaCzEUx5UZ2unmm-vjMEjOKAMigTtVa2n29c/file\n",
      "Resolving ucaf3a74f2e060b7832fe08a9f4a.dl.dropboxusercontent.com (ucaf3a74f2e060b7832fe08a9f4a.dl.dropboxusercontent.com)... 162.125.65.6, 2620:100:6021:6::a27d:4106\n",
      "Connecting to ucaf3a74f2e060b7832fe08a9f4a.dl.dropboxusercontent.com (ucaf3a74f2e060b7832fe08a9f4a.dl.dropboxusercontent.com)|162.125.65.6|:443... connected.\n",
      "HTTP request sent, awaiting response... 302 FOUND\n",
      "Location: /cd/0/inline2/AtpwUNxusoDnJEUuewb6n4i8XmK3MeYCwoCHec7-X_2UC237g07ilLlqjiH6A-yufixr2d5_2fRr92nSbJbqZezVEehYzHjzGt9bvcpmoMDKAxIVTSFFF-6i1g75ofY0aLjllJ3Ub2ez1yNy5fVm0PFjn6QMBxK9EHwNHVfiXr2JL7bzx4VsJCm9sKCbKJemqupV9Eq7j8yDUZc3wuf1IXrMDHHRZrL9_Mu-ww0SCJrcwT4Vn5JGGgu1SNgNgiIiJ1tONLT_BMxbBeFTnyrPzSVRCG21iJImJW7f488L9LKApReHCpuM2n0QanY_SAD0-fmnuxcYKM9d7USZgxQYfVUK2slSysSpmp4BuR-NYEFfKA/file [following]\n",
      "--2019-12-05 19:46:46--  https://ucaf3a74f2e060b7832fe08a9f4a.dl.dropboxusercontent.com/cd/0/inline2/AtpwUNxusoDnJEUuewb6n4i8XmK3MeYCwoCHec7-X_2UC237g07ilLlqjiH6A-yufixr2d5_2fRr92nSbJbqZezVEehYzHjzGt9bvcpmoMDKAxIVTSFFF-6i1g75ofY0aLjllJ3Ub2ez1yNy5fVm0PFjn6QMBxK9EHwNHVfiXr2JL7bzx4VsJCm9sKCbKJemqupV9Eq7j8yDUZc3wuf1IXrMDHHRZrL9_Mu-ww0SCJrcwT4Vn5JGGgu1SNgNgiIiJ1tONLT_BMxbBeFTnyrPzSVRCG21iJImJW7f488L9LKApReHCpuM2n0QanY_SAD0-fmnuxcYKM9d7USZgxQYfVUK2slSysSpmp4BuR-NYEFfKA/file\n",
      "Reusing existing connection to ucaf3a74f2e060b7832fe08a9f4a.dl.dropboxusercontent.com:443.\n",
      "HTTP request sent, awaiting response... 200 OK\n",
      "Length: 706383967 (674M) [application/rar]\n",
      "Saving to: ‘final.rar’\n",
      "\n",
      "final.rar           100%[===================>] 673.66M  48.7MB/s    in 14s     \n",
      "\n",
      "2019-12-05 19:47:01 (48.9 MB/s) - ‘final.rar’ saved [706383967/706383967]\n",
      "\n",
      "--2019-12-05 19:47:02--  https://www.dropbox.com/s/jtft015l142348f/multi.rar?dl=0\n",
      "Resolving www.dropbox.com (www.dropbox.com)... 162.125.65.1, 2620:100:6021:1::a27d:4101\n",
      "Connecting to www.dropbox.com (www.dropbox.com)|162.125.65.1|:443... connected.\n",
      "HTTP request sent, awaiting response... 301 Moved Permanently\n",
      "Location: /s/raw/jtft015l142348f/multi.rar [following]\n",
      "--2019-12-05 19:47:02--  https://www.dropbox.com/s/raw/jtft015l142348f/multi.rar\n",
      "Reusing existing connection to www.dropbox.com:443.\n",
      "HTTP request sent, awaiting response... 302 Found\n",
      "Location: https://uc816d6c408b7b79745e985f78e2.dl.dropboxusercontent.com/cd/0/inline/Atpd_SfR3eCAzODFKcv74u4V3N6RNUTL4C5nDjYfcOIa72fOJjep7rfsmuQr_TT2BmIrmgXa1VU-7aVo93pjKAhlQumWqntD9j45lIWVl9vjgTqczpd_8rsWIWlTAvS5iRI/file# [following]\n",
      "--2019-12-05 19:47:03--  https://uc816d6c408b7b79745e985f78e2.dl.dropboxusercontent.com/cd/0/inline/Atpd_SfR3eCAzODFKcv74u4V3N6RNUTL4C5nDjYfcOIa72fOJjep7rfsmuQr_TT2BmIrmgXa1VU-7aVo93pjKAhlQumWqntD9j45lIWVl9vjgTqczpd_8rsWIWlTAvS5iRI/file\n",
      "Resolving uc816d6c408b7b79745e985f78e2.dl.dropboxusercontent.com (uc816d6c408b7b79745e985f78e2.dl.dropboxusercontent.com)... 162.125.65.6, 2620:100:6021:6::a27d:4106\n",
      "Connecting to uc816d6c408b7b79745e985f78e2.dl.dropboxusercontent.com (uc816d6c408b7b79745e985f78e2.dl.dropboxusercontent.com)|162.125.65.6|:443... connected.\n",
      "HTTP request sent, awaiting response... 302 FOUND\n",
      "Location: /cd/0/inline2/Atp2t4_pHO6yf-Cg16d0XnxL3BCComZ4PNuro-w1EUzcRwrd9D9KgyGG3YDzZzEaebeQG0UE5RP-PNwYEBKUkhY8_JZGh4CrAsV-t44bqYvDvDJSWbWAZJf7vF3ZzVQcvemHIkdMBgCDKtdauLQd2FxTSXcjujO61mlEiObW4kJ-BcI6QXdAgYPKsjSzd5ANpi5XDcQOR_-M8tisBSst6ZCQU-Ta-oVcxQevg50_z3GoJuq2_nS_T1l9f6KzQQz7GJni3UjTGNv3_n6lAcrdi-wkgwR2FpJa2XbGQsIer1FxySMBKgD2WYyh6vCe-G4iC5D3l16vgaOzXT9CFOWCNf8wlJuzxcnWiOl-kmw_HDJJYw/file [following]\n",
      "--2019-12-05 19:47:03--  https://uc816d6c408b7b79745e985f78e2.dl.dropboxusercontent.com/cd/0/inline2/Atp2t4_pHO6yf-Cg16d0XnxL3BCComZ4PNuro-w1EUzcRwrd9D9KgyGG3YDzZzEaebeQG0UE5RP-PNwYEBKUkhY8_JZGh4CrAsV-t44bqYvDvDJSWbWAZJf7vF3ZzVQcvemHIkdMBgCDKtdauLQd2FxTSXcjujO61mlEiObW4kJ-BcI6QXdAgYPKsjSzd5ANpi5XDcQOR_-M8tisBSst6ZCQU-Ta-oVcxQevg50_z3GoJuq2_nS_T1l9f6KzQQz7GJni3UjTGNv3_n6lAcrdi-wkgwR2FpJa2XbGQsIer1FxySMBKgD2WYyh6vCe-G4iC5D3l16vgaOzXT9CFOWCNf8wlJuzxcnWiOl-kmw_HDJJYw/file\n",
      "Reusing existing connection to uc816d6c408b7b79745e985f78e2.dl.dropboxusercontent.com:443.\n",
      "HTTP request sent, awaiting response... 200 OK\n",
      "Length: 2672018187 (2.5G) [application/rar]\n",
      "Saving to: ‘multi.rar’\n",
      "\n",
      "multi.rar            27%[====>               ] 695.43M  30.3MB/s    eta 14m 52s"
     ]
    }
   ],
   "source": [
    "!wget -O avg.rar https://www.dropbox.com/s/csqj9r4dwul0nvg/avg_atlas_transform.rar?dl=0\n",
    "!wget -O final.rar https://www.dropbox.com/s/kv6yvak490nd2em/final.rar?dl=0\n",
    "!wget -O multi.rar https://www.dropbox.com/s/jtft015l142348f/multi.rar?dl=0"
   ]
  },
  {
   "cell_type": "code",
   "execution_count": 0,
   "metadata": {
    "colab": {},
    "colab_type": "code",
    "id": "jClU6arIlZi1"
   },
   "outputs": [],
   "source": [
    "!unrar x avg.rar\n",
    "!unrar x multi.rar\n",
    "!unrar x final.rar"
   ]
  },
  {
   "cell_type": "markdown",
   "metadata": {
    "colab_type": "text",
    "id": "3Z8KpgImUvbd"
   },
   "source": [
    "## Changing present working directory to the directory containing Training Files and Labels"
   ]
  },
  {
   "cell_type": "code",
   "execution_count": 0,
   "metadata": {
    "colab": {
     "base_uri": "https://localhost:8080/",
     "height": 36
    },
    "colab_type": "code",
    "id": "i26__VcfQJx3",
    "outputId": "68d43fa6-737d-478f-a549-9fae3387af40"
   },
   "outputs": [
    {
     "name": "stdout",
     "output_type": "stream",
     "text": [
      "/content/drive/My Drive/misa_lab3/nmulti\n"
     ]
    }
   ],
   "source": [
    "cd multi"
   ]
  },
  {
   "cell_type": "markdown",
   "metadata": {
    "colab_type": "text",
    "id": "gwi8zFmDVBtc"
   },
   "source": [
    "## Loading the Images"
   ]
  },
  {
   "cell_type": "code",
   "execution_count": 0,
   "metadata": {
    "colab": {},
    "colab_type": "code",
    "id": "ZV5_7d5-xv--"
   },
   "outputs": [],
   "source": [
    "# -*- coding: utf-8 -*-\n",
    "\"\"\"\n",
    "Created on Thu Nov 14 17:23:55 2019\n",
    "\n",
    "\n",
    "@authors: Zohaib & Isaac (MAIA_3, 3rd Semester, Girona)\n",
    "\"\"\"\n",
    "\n",
    "import os\n",
    "import time\n",
    "import cv2 as cv\n",
    "import numpy as np\n",
    "import nibabel as nib\n",
    "from sklearn.cluster import KMeans\n",
    "from matplotlib import pyplot as plt\n",
    "from scipy.stats import moment\n",
    "from scipy.stats import multivariate_normal\n",
    "from sklearn.datasets import make_spd_matrix\n",
    "from glob import glob\n",
    "\n",
    "def getImgs(folder,num = 1):\n",
    "    '''\n",
    "    This function explores the folders inside './results' path, where different cases exist.\n",
    "    '''\n",
    "    root_folder = os.getcwd()\n",
    "    data_folder = os.path.join(root_folder, folder)\n",
    "    folders = glob(data_folder + \"/*\")\n",
    "    img = [img for folder in folders for img in load_images_from_folder(folder)]\n",
    "    return img,_,_\n",
    "\n",
    "def load_images_from_folder(folder):\n",
    "    images = []\n",
    "    test=os.listdir(folder)\n",
    "    test.sort()\n",
    "    #print(test)\n",
    "    for filename in test:\n",
    "        if (filename.endswith(\".nii\") or filename.endswith(\".nii.gz\")):\n",
    "            img = nib.load(os.path.join(folder, filename))\n",
    "            img = img.get_fdata()\n",
    "\n",
    "            if img is not None:\n",
    "                if filename.endswith(\"g.nii\"):\n",
    "                    continue\n",
    "                else:\n",
    "                    images.append(img)\n",
    "    return images\n",
    "\n",
    "def get_header(filename):\n",
    "\n",
    "    print(filename)\n",
    "    if (filename.endswith(\".nii\") or filename.endswith(\".nii.gz\")):\n",
    "        img = nib.load(filename)\n",
    "        head = img.header\n",
    "        aff = img.affine\n",
    "    return head,aff\n",
    "\n",
    "img,header,affine = getImgs('../registered_images') #change this to ../registered_images\n",
    "gt_img,_,_ = getImgs('../registered_labels') #change this to ../registerd_labels\n",
    "\n"
   ]
  },
  {
   "cell_type": "markdown",
   "metadata": {
    "colab_type": "text",
    "id": "GbkPY_BhWrHk"
   },
   "source": [
    "## Creating the Mean Image for 15 atlases separately"
   ]
  },
  {
   "cell_type": "code",
   "execution_count": 0,
   "metadata": {
    "colab": {
     "base_uri": "https://localhost:8080/",
     "height": 1000
    },
    "colab_type": "code",
    "id": "skIdsbxFULLV",
    "outputId": "57c0bb57-2479-4f30-ff9c-b85d9d9e89f1"
   },
   "outputs": [
    {
     "name": "stdout",
     "output_type": "stream",
     "text": [
      "1000\n",
      "1000/registered_images\n",
      "../final/training/training-images/1000.nii.gz\n",
      "../final/training/training-images/1000.nii.gz\n",
      "mkdir: cannot create directory ‘./results/1000’: File exists\n",
      "1001\n",
      "1001/registered_images\n",
      "../final/training/training-images/1001.nii.gz\n",
      "../final/training/training-images/1001.nii.gz\n",
      "mkdir: cannot create directory ‘./results/1001’: File exists\n",
      "1002\n",
      "1002/registered_images\n",
      "../final/training/training-images/1002.nii.gz\n",
      "../final/training/training-images/1002.nii.gz\n",
      "mkdir: cannot create directory ‘./results/1002’: File exists\n",
      "1006\n",
      "1006/registered_images\n",
      "../final/training/training-images/1006.nii.gz\n",
      "../final/training/training-images/1006.nii.gz\n",
      "mkdir: cannot create directory ‘./results/1006’: File exists\n",
      "1007\n",
      "1007/registered_images\n",
      "../final/training/training-images/1007.nii.gz\n",
      "../final/training/training-images/1007.nii.gz\n",
      "mkdir: cannot create directory ‘./results/1007’: File exists\n",
      "1008\n",
      "1008/registered_images\n",
      "../final/training/training-images/1008.nii.gz\n",
      "../final/training/training-images/1008.nii.gz\n",
      "mkdir: cannot create directory ‘./results/1008’: File exists\n",
      "1009\n",
      "1009/registered_images\n",
      "../final/training/training-images/1009.nii.gz\n",
      "../final/training/training-images/1009.nii.gz\n",
      "mkdir: cannot create directory ‘./results/1009’: File exists\n",
      "1010\n",
      "1010/registered_images\n",
      "../final/training/training-images/1010.nii.gz\n",
      "../final/training/training-images/1010.nii.gz\n",
      "mkdir: cannot create directory ‘./results/1010’: File exists\n",
      "1011\n",
      "1011/registered_images\n",
      "../final/training/training-images/1011.nii.gz\n",
      "../final/training/training-images/1011.nii.gz\n",
      "mkdir: cannot create directory ‘./results/1011’: File exists\n",
      "1012\n",
      "1012/registered_images\n",
      "../final/training/training-images/1012.nii.gz\n",
      "../final/training/training-images/1012.nii.gz\n",
      "mkdir: cannot create directory ‘./results/1012’: File exists\n",
      "1013\n",
      "1013/registered_images\n",
      "../final/training/training-images/1013.nii.gz\n",
      "../final/training/training-images/1013.nii.gz\n",
      "mkdir: cannot create directory ‘./results/1013’: File exists\n",
      "1014\n",
      "1014/registered_images\n",
      "../final/training/training-images/1014.nii.gz\n",
      "../final/training/training-images/1014.nii.gz\n",
      "mkdir: cannot create directory ‘./results/1014’: File exists\n",
      "1015\n",
      "1015/registered_images\n",
      "../final/training/training-images/1015.nii.gz\n",
      "../final/training/training-images/1015.nii.gz\n",
      "mkdir: cannot create directory ‘./results/1015’: File exists\n",
      "1017\n",
      "1017/registered_images\n",
      "../final/training/training-images/1017.nii.gz\n",
      "../final/training/training-images/1017.nii.gz\n",
      "mkdir: cannot create directory ‘./results/1017’: File exists\n",
      "1036\n",
      "1036/registered_images\n",
      "../final/training/training-images/1036.nii.gz\n",
      "../final/training/training-images/1036.nii.gz\n",
      "mkdir: cannot create directory ‘./results/1036’: File exists\n"
     ]
    }
   ],
   "source": [
    "atlas_name = os.listdir('./')\n",
    "atlas_name.sort()\n",
    "\n",
    "for j in range(0,15):\n",
    "  i = atlas_name[j]\n",
    "  print(i)\n",
    "  rg_images = i + \"/registered_images\"\n",
    "  rg_labels = i +  \"/registered_labels\"\n",
    "  print(rg_images)\n",
    "  img,_,_ = getImgs(rg_images,j)\n",
    "  path_n = \"../training/training-images/\" + i + \".nii.gz\"\n",
    "  print(path_n)\n",
    "  header, affine = get_header(path_n)\n",
    "  gt_img, _ , _ = getImgs(rg_labels)\n",
    "  mean_image = np.zeros(img[0].shape)\n",
    "\n",
    "  result_dir = \"./results/\" + i\n",
    "  !mkdir $result_dir\n",
    "\n",
    "  for i in range(0,len(img)):\n",
    "    mean_image += (img[i] - np.min(img[i]))/(np.max(img[i])- np.min(img[i]))\n",
    "\n",
    "  mean_image = mean_image/len(img)\n",
    "  CSF = np.zeros(img[0].shape) # label 1\n",
    "  GM = np.zeros(img[0].shape)  # label 2\n",
    "  WM =  np.zeros(img[0].shape) # label 3\n",
    "\n",
    "\n",
    "  for i in range(0,len(img)):\n",
    "    CSF += (gt_img[i] == 1) *1\n",
    "    GM += (gt_img[i] == 2) *1\n",
    "    WM += (gt_img[i] == 3) *1\n",
    "\n",
    "  total = CSF + GM + WM\n",
    "  zero_indices = (total == 0)\n",
    "  total[zero_indices] = 1\n",
    "\n",
    "  CSF = np.divide(CSF,total)\n",
    "\n",
    "  GM = np.divide(GM,total)\n",
    "\n",
    "  WM = np.divide(WM,total)\n",
    "\n",
    "  ni_mean_image = nib.Nifti1Image(mean_image, affine, header)\n",
    "  ni_CSF = nib.Nifti1Image(CSF, affine, header)\n",
    "  ni_GM = nib.Nifti1Image(GM, affine, header)\n",
    "  ni_WM = nib.Nifti1Image(WM, affine, header)\n",
    "\n",
    "  nib.save(ni_mean_image, result_dir + '/mean_image.nii')\n",
    "  nib.save(ni_CSF, result_dir + '/CSF.nii')\n",
    "  nib.save(ni_GM, result_dir + '/GM.nii')\n",
    "  nib.save(ni_WM, result_dir + '/WM.nii')\n",
    "\n"
   ]
  },
  {
   "cell_type": "markdown",
   "metadata": {
    "colab_type": "text",
    "id": "YC1ENrEq6bUu"
   },
   "source": [
    "## Change the directory to avg_atlas_transform"
   ]
  },
  {
   "cell_type": "code",
   "execution_count": 0,
   "metadata": {
    "colab": {
     "base_uri": "https://localhost:8080/",
     "height": 36
    },
    "colab_type": "code",
    "id": "9mk87zi06ZiG",
    "outputId": "d1310248-50c3-47f9-8022-f174b103ab0f"
   },
   "outputs": [
    {
     "name": "stdout",
     "output_type": "stream",
     "text": [
      "/content/drive/My Drive/misa_lab3/avg_atlas_transform\n"
     ]
    }
   ],
   "source": [
    "cd avg_atlas_transform"
   ]
  },
  {
   "cell_type": "markdown",
   "metadata": {
    "colab_type": "text",
    "id": "Vm-cgwG16f-5"
   },
   "source": [
    "##Generating the Average Atlas"
   ]
  },
  {
   "cell_type": "code",
   "execution_count": 0,
   "metadata": {
    "colab": {
     "base_uri": "https://localhost:8080/",
     "height": 295
    },
    "colab_type": "code",
    "id": "Jk3mJKCU6jOE",
    "outputId": "e5c8157b-c6f1-423e-f8b7-bf5944c3bf1a"
   },
   "outputs": [
    {
     "name": "stdout",
     "output_type": "stream",
     "text": [
      "['1000', '1001', '1002', '1006', '1007', '1008', '1009', '1010', '1011', '1012', '1013', '1014', '1015', '1017', '1036']\n",
      "['1000', '1001', '1002', '1006', '1007', '1008', '1009', '1010', '1011', '1012', '1013', '1014', '1015', '1017', '1036']\n",
      "['1000', '1001', '1002', '1006', '1007', '1008', '1009', '1010', '1011', '1012', '1013', '1014', '1015', '1017', '1036']\n",
      "['1000', '1001', '1002', '1006', '1007', '1008', '1009', '1010', '1011', '1012', '1013', '1014', '1015', '1017', '1036']\n",
      "['1000', '1001', '1002', '1006', '1007', '1008', '1009', '1010', '1011', '1012', '1013', '1014', '1015', '1017', '1036']\n",
      "['1000', '1001', '1002', '1006', '1007', '1008', '1009', '1010', '1011', '1012', '1013', '1014', '1015', '1017', '1036']\n",
      "['1000', '1001', '1002', '1006', '1007', '1008', '1009', '1010', '1011', '1012', '1013', '1014', '1015', '1017', '1036']\n",
      "['1000', '1001', '1002', '1006', '1007', '1008', '1009', '1010', '1011', '1012', '1013', '1014', '1015', '1017', '1036']\n",
      "['1000', '1001', '1002', '1006', '1007', '1008', '1009', '1010', '1011', '1012', '1013', '1014', '1015', '1017', '1036']\n",
      "['1000', '1001', '1002', '1006', '1007', '1008', '1009', '1010', '1011', '1012', '1013', '1014', '1015', '1017', '1036']\n",
      "['1000', '1001', '1002', '1006', '1007', '1008', '1009', '1010', '1011', '1012', '1013', '1014', '1015', '1017', '1036']\n",
      "['1000', '1001', '1002', '1006', '1007', '1008', '1009', '1010', '1011', '1012', '1013', '1014', '1015', '1017', '1036']\n",
      "['1000', '1001', '1002', '1006', '1007', '1008', '1009', '1010', '1011', '1012', '1013', '1014', '1015', '1017', '1036']\n",
      "['1000', '1001', '1002', '1006', '1007', '1008', '1009', '1010', '1011', '1012', '1013', '1014', '1015', '1017', '1036']\n",
      "['1000', '1001', '1002', '1006', '1007', '1008', '1009', '1010', '1011', '1012', '1013', '1014', '1015', '1017', '1036']\n"
     ]
    }
   ],
   "source": [
    "import os\n",
    "import nibabel as nib\n",
    "import numpy as np\n",
    "\n",
    "test=os.listdir(\"./\")\n",
    "test.sort()\n",
    "\n",
    "count =0\n",
    "for i in test:\n",
    "  print(test)\n",
    "  csf = os.path.join(\".\", i,\"csf\", \"result.nii\")\n",
    "  img = nib.load(csf)\n",
    "  img = img.get_fdata()\n",
    "\n",
    "  if count ==0 :\n",
    "    csf_avg = np.zeros(img.shape)\n",
    "  else:\n",
    "    csf_avg += img\n",
    "  count = count+1\n",
    "csf_avg = csf_avg / len(test)\n",
    "\n",
    "count =0\n",
    "for i in test:\n",
    "  wm = os.path.join(\".\", i,\"wm\", \"result.nii\")\n",
    "  img = nib.load(wm)\n",
    "  img = img.get_fdata()\n",
    "\n",
    "  if count ==0 :\n",
    "    wm_avg = np.zeros(img.shape)\n",
    "  else:\n",
    "    wm_avg += img\n",
    "  count = count+1\n",
    "\n",
    "wm_avg = wm_avg / len(test)\n",
    "\n",
    "\n",
    "count =0\n",
    "for i in test:\n",
    "  gm = os.path.join(\".\", i,\"gm\", \"result.nii\")\n",
    "  img = nib.load(gm)\n",
    "  img = img.get_fdata()\n",
    "\n",
    "  if count ==0 :\n",
    "    gm_avg = np.zeros(img.shape)\n",
    "  else:\n",
    "    gm_avg += img\n",
    "  count = count+1\n",
    "\n",
    "gm_avg = gm_avg / len(test)\n",
    "\n",
    "\n"
   ]
  },
  {
   "cell_type": "markdown",
   "metadata": {
    "colab_type": "text",
    "id": "1RjPGSrI6tCx"
   },
   "source": [
    "## Displaying the Average Atlas"
   ]
  },
  {
   "cell_type": "code",
   "execution_count": 0,
   "metadata": {
    "colab": {
     "base_uri": "https://localhost:8080/",
     "height": 359
    },
    "colab_type": "code",
    "id": "5CkvXsUQ6u7U",
    "outputId": "c40202e7-f3ca-4359-b377-65de841503e2"
   },
   "outputs": [
    {
     "data": {
      "image/png": "[encoded data removed]",
      "text/plain": [
       "<Figure size 432x288 with 3 Axes>"
      ]
     },
     "metadata": {
      "tags": []
     },
     "output_type": "display_data"
    },
    {
     "data": {
      "image/png": "[encoded data removed]",
      "text/plain": [
       "<Figure size 432x288 with 3 Axes>"
      ]
     },
     "metadata": {
      "tags": []
     },
     "output_type": "display_data"
    },
    {
     "data": {
      "image/png": "[encoded data removed]",
      "text/plain": [
       "<Figure size 432x288 with 3 Axes>"
      ]
     },
     "metadata": {
      "tags": []
     },
     "output_type": "display_data"
    }
   ],
   "source": [
    "for i in range(150,153):\n",
    "  plt.figure()\n",
    "  plt.subplot(1,3,1)\n",
    "  plt.imshow(csf_avg[:,:,i],cmap='gray')\n",
    "\n",
    "  plt.subplot(1,3,2)\n",
    "  plt.imshow(wm_avg[:,:,i],cmap='gray')\n",
    "\n",
    "  plt.subplot(1,3,3)\n",
    "  plt.imshow(gm_avg[:,:,i],cmap='gray')\n",
    "  plt.show()\n"
   ]
  },
  {
   "cell_type": "markdown",
   "metadata": {
    "colab_type": "text",
    "id": "Rz_rRRYK6v3-"
   },
   "source": [
    "## Saving the average Atlas"
   ]
  },
  {
   "cell_type": "code",
   "execution_count": 0,
   "metadata": {
    "colab": {
     "base_uri": "https://localhost:8080/",
     "height": 54
    },
    "colab_type": "code",
    "id": "CcdJSZ_n6xu8",
    "outputId": "c9875fbf-bd40-4a71-90cf-2cfb3a1d7b49"
   },
   "outputs": [
    {
     "name": "stdout",
     "output_type": "stream",
     "text": [
      "../final/training/training-images/1007.nii.gz\n",
      "../final/training/training-images/1007.nii.gz\n"
     ]
    }
   ],
   "source": [
    "def get_header(filename):\n",
    "\n",
    "    print(filename)\n",
    "    if (filename.endswith(\".nii\") or filename.endswith(\".nii.gz\")):\n",
    "        img = nib.load(filename)\n",
    "        head = img.header\n",
    "        aff = img.affine\n",
    "    return head,aff\n",
    "\n",
    "path = \"../training/training-images/\" + \"1007\" + \".nii.gz\"\n",
    "print(path)\n",
    "header, affine = get_header(path)\n",
    "\n",
    "ni_CSF = nib.Nifti1Image(csf_avg, affine, header)\n",
    "ni_GM = nib.Nifti1Image(gm_avg, affine, header)\n",
    "ni_WM = nib.Nifti1Image(wm_avg, affine, header)\n",
    "\n",
    "nib.save(ni_CSF, 'CSF.nii')\n",
    "nib.save(ni_GM, 'GM.nii')\n",
    "nib.save(ni_WM, 'WM.nii')"
   ]
  }
 ],
 "metadata": {
  "colab": {
   "collapsed_sections": [],
   "name": "Average Atlas.ipynb",
   "provenance": []
  },
  "kernelspec": {
   "display_name": "Python 3",
   "language": "python",
   "name": "python3"
  },
  "language_info": {
   "codemirror_mode": {
    "name": "ipython",
    "version": 3
   },
   "file_extension": ".py",
   "mimetype": "text/x-python",
   "name": "python",
   "nbconvert_exporter": "python",
   "pygments_lexer": "ipython3",
   "version": "3.6.8"
  }
 },
 "nbformat": 4,
 "nbformat_minor": 1
}
